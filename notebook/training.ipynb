{
 "cells": [
  {
   "cell_type": "code",
   "execution_count": 20,
   "metadata": {},
   "outputs": [],
   "source": [
    "import os"
   ]
  },
  {
   "cell_type": "code",
   "execution_count": 21,
   "metadata": {},
   "outputs": [],
   "source": [
    "os.chdir(\"../\")"
   ]
  },
  {
   "cell_type": "code",
   "execution_count": 22,
   "metadata": {},
   "outputs": [
    {
     "data": {
      "text/plain": [
       "'d:\\\\'"
      ]
     },
     "execution_count": 22,
     "metadata": {},
     "output_type": "execute_result"
    }
   ],
   "source": [
    "pwd"
   ]
  },
  {
   "cell_type": "code",
   "execution_count": 26,
   "metadata": {},
   "outputs": [],
   "source": [
    "os.chdir(\"/image_classification\")\n"
   ]
  },
  {
   "cell_type": "code",
   "execution_count": 27,
   "metadata": {},
   "outputs": [
    {
     "data": {
      "text/plain": [
       "'d:\\\\image_classification'"
      ]
     },
     "execution_count": 27,
     "metadata": {},
     "output_type": "execute_result"
    }
   ],
   "source": [
    "pwd"
   ]
  },
  {
   "cell_type": "code",
   "execution_count": 28,
   "metadata": {},
   "outputs": [],
   "source": [
    "from dataclasses import dataclass\n",
    "from pathlib import Path\n",
    "\n",
    "\n",
    "@dataclass(frozen=True)\n",
    "class TrainingConfig:\n",
    "    root_dir: Path\n",
    "    trained_model_path: Path\n",
    "    updated_base_model_path: Path\n",
    "    training_data: Path\n",
    "    validation_data: Path\n",
    "    params_epochs: int\n",
    "    params_batch_size: int\n",
    "    params_is_augmentation: bool\n",
    "    params_image_size: list\n",
    "\n"
   ]
  },
  {
   "cell_type": "code",
   "execution_count": null,
   "metadata": {},
   "outputs": [],
   "source": []
  },
  {
   "cell_type": "code",
   "execution_count": null,
   "metadata": {},
   "outputs": [],
   "source": []
  },
  {
   "cell_type": "code",
   "execution_count": 29,
   "metadata": {},
   "outputs": [],
   "source": [
    "from src.image_classification.constants import *\n",
    "from src.image_classification.utils import read_yaml, create_directories\n",
    "import tensorflow as tf"
   ]
  },
  {
   "cell_type": "code",
   "execution_count": 34,
   "metadata": {},
   "outputs": [],
   "source": [
    "class ConfigurationManager:\n",
    "    def __init__(\n",
    "        self, \n",
    "        config_filepath = CONFIG_FILE_PATH,\n",
    "        params_filepath = PARAMS_FILE_PATH):\n",
    "        self.config = read_yaml(config_filepath)\n",
    "        self.params = read_yaml(params_filepath)\n",
    "        create_directories([self.config.artifacts_root])\n",
    "\n",
    "    def get_training_config(self) -> TrainingConfig:\n",
    "        training = self.config.training\n",
    "        prepare_base_model = self.config.prepare_base_model\n",
    "        params = self.params\n",
    "        training_data = os.path.join(self.config.data_ingestion.unzip_dir, \"train\")\n",
    "        validation_data = os.path.join(self.config.data_ingestion.unzip_dir,\"validation\")\n",
    "        create_directories([ \n",
    "            Path(training.root_dir)\n",
    "        ])\n",
    "\n",
    "        training_config = TrainingConfig(\n",
    "            root_dir=Path(training.root_dir),\n",
    "            trained_model_path=Path(training.trained_model_path),\n",
    "            updated_base_model_path=Path(prepare_base_model.updated_base_model_path),\n",
    "            training_data=Path(training_data),\n",
    "            validation_data=Path(validation_data),\n",
    "            params_epochs=params.EPOCHS,\n",
    "            params_batch_size=params.BATCH_SIZE,\n",
    "            params_image_size=params.IMAGE_SIZE\n",
    "        )\n",
    "\n",
    "        return training_config"
   ]
  },
  {
   "cell_type": "code",
   "execution_count": 35,
   "metadata": {},
   "outputs": [],
   "source": [
    "import os\n",
    "import urllib.request as request\n",
    "from zipfile import ZipFile\n",
    "import tensorflow as tf"
   ]
  },
  {
   "cell_type": "code",
   "execution_count": 38,
   "metadata": {},
   "outputs": [],
   "source": [
    "class Training:\n",
    "    def __init__(self, config: TrainingConfig):\n",
    "        self.config = config\n",
    "    \n",
    "    def get_base_model(self):\n",
    "        self.model = tf.keras.models.load_model(\n",
    "            self.config.updated_base_model_path\n",
    "        )\n",
    "    \n",
    "    def train_valid_generator(self):\n",
    "        \n",
    "        train_datagen = tf.keras.preprocessing.image.ImageDataGenerator(rescale=1./255,\n",
    "                                   shear_range = 0.2,\n",
    "                                   zoom_range = 0.2,\n",
    "                                   horizontal_flip = True\n",
    "                                   )\n",
    "        test_datagen = tf.keras.preprocessing.image.ImageDataGenerator(\n",
    "                                    rescale = 1./255\n",
    "                                )\n",
    "        \n",
    "        self.training_set = train_datagen.flow_from_directory(self.config.training_data,\n",
    "                                                 target_size = (224, 224),\n",
    "                                                 batch_size = 32,\n",
    "                                                 class_mode = 'categorical')\n",
    "        \n",
    "        self.test_set = test_datagen.flow_from_directory(self.config.validation_data,\n",
    "                                                 target_size = (224, 224),\n",
    "                                                 batch_size = 32,\n",
    "                                                 class_mode = 'categorical')\n",
    "\n",
    "        \n",
    "        \n",
    "\n",
    "    @staticmethod\n",
    "    def save_model(path: Path, model: tf.keras.Model):\n",
    "        model.save(path)\n",
    "\n",
    "\n",
    "    def train(self):\n",
    "        self.length_of_test_set = len(self.training_set)\n",
    "        self.length_of_validation_set = len(self.test_set)\n",
    "        self.steps_per_epoch = self.length_of_test_set\n",
    "        self.validation_steps = self.length_of_validation_set\n",
    "\n",
    "        self.model.fit(\n",
    "            self.training_set,\n",
    "            validation_data=self.test_set,\n",
    "            epochs=self.config.params_epochs,\n",
    "            steps_per_epoch=self.steps_per_epoch,\n",
    "            validation_steps=self.validation_steps,\n",
    "        )\n",
    "\n",
    "        self.save_model(\n",
    "            path=self.config.trained_model_path,\n",
    "            model=self.model\n",
    "        )"
   ]
  },
  {
   "cell_type": "code",
   "execution_count": 39,
   "metadata": {},
   "outputs": [
    {
     "name": "stdout",
     "output_type": "stream",
     "text": [
      "Found 337 images belonging to 2 classes.\n",
      "Found 59 images belonging to 2 classes.\n",
      "Epoch 1/10\n",
      "11/11 [==============================] - 54s 5s/step - loss: 1.8754 - accuracy: 0.6558 - val_loss: 0.5289 - val_accuracy: 0.8475\n",
      "Epoch 2/10\n",
      "11/11 [==============================] - 65s 6s/step - loss: 0.4482 - accuracy: 0.8338 - val_loss: 1.0181 - val_accuracy: 0.7288\n",
      "Epoch 3/10\n",
      "11/11 [==============================] - 71s 7s/step - loss: 0.2675 - accuracy: 0.8991 - val_loss: 0.8439 - val_accuracy: 0.8136\n",
      "Epoch 4/10\n",
      "11/11 [==============================] - 67s 6s/step - loss: 0.2617 - accuracy: 0.9050 - val_loss: 0.8455 - val_accuracy: 0.8136\n",
      "Epoch 5/10\n",
      "11/11 [==============================] - 66s 6s/step - loss: 0.1943 - accuracy: 0.9288 - val_loss: 0.8328 - val_accuracy: 0.7966\n",
      "Epoch 6/10\n",
      "11/11 [==============================] - 65s 6s/step - loss: 0.1551 - accuracy: 0.9496 - val_loss: 0.8909 - val_accuracy: 0.7797\n",
      "Epoch 7/10\n",
      "11/11 [==============================] - 65s 6s/step - loss: 0.0694 - accuracy: 0.9733 - val_loss: 0.6014 - val_accuracy: 0.8475\n",
      "Epoch 8/10\n",
      "11/11 [==============================] - 65s 6s/step - loss: 0.0321 - accuracy: 0.9881 - val_loss: 0.5732 - val_accuracy: 0.8475\n",
      "Epoch 9/10\n",
      "11/11 [==============================] - 64s 6s/step - loss: 0.0244 - accuracy: 0.9941 - val_loss: 0.5593 - val_accuracy: 0.8305\n",
      "Epoch 10/10\n",
      "11/11 [==============================] - 75s 7s/step - loss: 0.0373 - accuracy: 0.9881 - val_loss: 0.6127 - val_accuracy: 0.8475\n"
     ]
    }
   ],
   "source": [
    "try:\n",
    "    config = ConfigurationManager()\n",
    "    \n",
    "    \n",
    "\n",
    "    training_config = config.get_training_config()\n",
    "    training = Training(config=training_config)\n",
    "    training.get_base_model()\n",
    "    training.train_valid_generator()\n",
    "    training.train()\n",
    "    \n",
    "except Exception as e:\n",
    "    raise e"
   ]
  },
  {
   "cell_type": "code",
   "execution_count": null,
   "metadata": {},
   "outputs": [],
   "source": []
  }
 ],
 "metadata": {
  "kernelspec": {
   "display_name": "Python 3",
   "language": "python",
   "name": "python3"
  },
  "language_info": {
   "codemirror_mode": {
    "name": "ipython",
    "version": 3
   },
   "file_extension": ".py",
   "mimetype": "text/x-python",
   "name": "python",
   "nbconvert_exporter": "python",
   "pygments_lexer": "ipython3",
   "version": "3.8.0"
  }
 },
 "nbformat": 4,
 "nbformat_minor": 2
}
